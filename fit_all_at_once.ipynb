{
 "cells": [
  {
   "cell_type": "code",
   "execution_count": 1,
   "metadata": {},
   "outputs": [],
   "source": [
    "import pandas as pd\n",
    "import numpy as np\n",
    "import matplotlib.pyplot as plt\n",
    "%matplotlib inline"
   ]
  },
  {
   "cell_type": "code",
   "execution_count": 2,
   "metadata": {},
   "outputs": [],
   "source": [
    "with open('SiO2Damon1973.txt', 'r') as f:\n",
    "    data = f.readlines()\n",
    "data = [d.split('\\t') for d in data]\n",
    "data = pd.DataFrame(data[1:], columns=['T', 'k'])\n",
    "data['k'] = data['k'].str.replace('\\n', '')\n",
    "for c in data.columns:\n",
    "    data[c] = data[c].astype('float')"
   ]
  },
  {
   "cell_type": "code",
   "execution_count": 3,
   "metadata": {},
   "outputs": [],
   "source": [
    "data['T_log'] = np.log(data['T'])\n",
    "data['k_log'] = np.log(data['k'])"
   ]
  },
  {
   "cell_type": "code",
   "execution_count": 4,
   "metadata": {},
   "outputs": [
    {
     "data": {
      "image/png": "[encoded data removed]",
      "text/plain": [
       "<Figure size 432x288 with 1 Axes>"
      ]
     },
     "metadata": {
      "needs_background": "light"
     },
     "output_type": "display_data"
    }
   ],
   "source": [
    "fig = plt.figure()\n",
    "ax = plt.gca()\n",
    "ax.scatter(data['T'], data['k'])\n",
    "ax.set_yscale('log')\n",
    "ax.set_xscale('log')"
   ]
  },
  {
   "cell_type": "code",
   "execution_count": 5,
   "metadata": {},
   "outputs": [],
   "source": [
    "z = np.polyfit(data['T_log'], data['k_log'], 6)\n",
    "p = np.poly1d(z)\n",
    "xp = np.linspace(0, 5, 500)\n",
    "ap_df = pd.DataFrame({'x':xp})\n",
    "ap_df['y'] = [p(x) for x in xp]"
   ]
  },
  {
   "cell_type": "code",
   "execution_count": 6,
   "metadata": {},
   "outputs": [
    {
     "data": {
      "text/plain": [
       "<matplotlib.collections.PathCollection at 0x7ff117ca3b70>"
      ]
     },
     "execution_count": 6,
     "metadata": {},
     "output_type": "execute_result"
    },
    {
     "data": {
      "image/png": "[encoded data removed]",
      "text/plain": [
       "<Figure size 432x288 with 1 Axes>"
      ]
     },
     "metadata": {
      "needs_background": "light"
     },
     "output_type": "display_data"
    }
   ],
   "source": [
    "fig = plt.figure()\n",
    "ax = plt.gca()\n",
    "ax.scatter(ap_df['x'], ap_df['y'])\n",
    "# ax.set_yscale('log')\n",
    "# ax.set_xscale('log')"
   ]
  },
  {
   "cell_type": "code",
   "execution_count": 7,
   "metadata": {},
   "outputs": [
    {
     "data": {
      "text/html": [
       "<div>\n",
       "<style scoped>\n",
       "    .dataframe tbody tr th:only-of-type {\n",
       "        vertical-align: middle;\n",
       "    }\n",
       "\n",
       "    .dataframe tbody tr th {\n",
       "        vertical-align: top;\n",
       "    }\n",
       "\n",
       "    .dataframe thead th {\n",
       "        text-align: right;\n",
       "    }\n",
       "</style>\n",
       "<table border=\"1\" class=\"dataframe\">\n",
       "  <thead>\n",
       "    <tr style=\"text-align: right;\">\n",
       "      <th></th>\n",
       "      <th>x</th>\n",
       "      <th>y</th>\n",
       "    </tr>\n",
       "  </thead>\n",
       "  <tbody>\n",
       "    <tr>\n",
       "      <th>0</th>\n",
       "      <td>0.00000</td>\n",
       "      <td>-4.109610</td>\n",
       "    </tr>\n",
       "    <tr>\n",
       "      <th>1</th>\n",
       "      <td>0.01002</td>\n",
       "      <td>-4.100901</td>\n",
       "    </tr>\n",
       "    <tr>\n",
       "      <th>2</th>\n",
       "      <td>0.02004</td>\n",
       "      <td>-4.091864</td>\n",
       "    </tr>\n",
       "    <tr>\n",
       "      <th>3</th>\n",
       "      <td>0.03006</td>\n",
       "      <td>-4.082510</td>\n",
       "    </tr>\n",
       "    <tr>\n",
       "      <th>4</th>\n",
       "      <td>0.04008</td>\n",
       "      <td>-4.072849</td>\n",
       "    </tr>\n",
       "  </tbody>\n",
       "</table>\n",
       "</div>"
      ],
      "text/plain": [
       "         x         y\n",
       "0  0.00000 -4.109610\n",
       "1  0.01002 -4.100901\n",
       "2  0.02004 -4.091864\n",
       "3  0.03006 -4.082510\n",
       "4  0.04008 -4.072849"
      ]
     },
     "execution_count": 7,
     "metadata": {},
     "output_type": "execute_result"
    }
   ],
   "source": [
    "ap_df.head()"
   ]
  },
  {
   "cell_type": "code",
   "execution_count": 42,
   "metadata": {},
   "outputs": [],
   "source": [
    "def k_func(T, c1, c2, c3, c4, n):\n",
    "    k1 = (c1*T**n*c2)/(c1*T**n+c2) \n",
    "    k2 = c3*np.exp(-c4/T)\n",
    "    return k1+k2\n",
    "\n",
    "def loss_k(*params):\n",
    "    print(params)\n",
    "    c1 = params[0][0]\n",
    "    c2 = params[0][1]\n",
    "    c3 = params[0][2]\n",
    "    c4 = params[0][3]\n",
    "    n = params[0][4]\n",
    "    k_fit = [k_func(t, c1, c2, c3, c4, n) for t in T]\n",
    "    return np.mean((k_fit - k)**2)"
   ]
  },
  {
   "cell_type": "code",
   "execution_count": 43,
   "metadata": {},
   "outputs": [],
   "source": [
    "from scipy.optimize import minimize"
   ]
  },
  {
   "cell_type": "code",
   "execution_count": 44,
   "metadata": {},
   "outputs": [],
   "source": [
    "ap_df = ap_df[ap_df['x']>0]"
   ]
  },
  {
   "cell_type": "code",
   "execution_count": 45,
   "metadata": {},
   "outputs": [],
   "source": [
    "T = np.exp(ap_df['x'])\n",
    "k = np.exp(ap_df['y'])"
   ]
  },
  {
   "cell_type": "code",
   "execution_count": 53,
   "metadata": {},
   "outputs": [
    {
     "name": "stdout",
     "output_type": "stream",
     "text": [
      "(array([ 0.4 ,  0.11,  2.  ,  1.8 , 15.  ]),)\n",
      "(array([ 0.4 ,  0.11,  2.  ,  1.8 , 15.  ]),)\n",
      "(array([ 0.40000001,  0.11      ,  2.        ,  1.8       , 15.        ]),)\n",
      "(array([ 0.4       ,  0.11000001,  2.        ,  1.8       , 15.        ]),)\n",
      "(array([ 0.4       ,  0.11      ,  2.00000001,  1.8       , 15.        ]),)\n",
      "(array([ 0.4       ,  0.11      ,  2.        ,  1.80000001, 15.        ]),)\n",
      "(array([ 0.4       ,  0.11      ,  2.        ,  1.8       , 15.00000001]),)\n",
      "(array([ 0.39931276, -2.66427176, -0.26431477,  2.22947125, 14.99997601]),)\n",
      "(array([ 0.39983897, -0.54003456,  1.46945254,  1.90062863, 14.99999438]),)\n",
      "(array([ 0.3999839 ,  0.04499654,  1.94694525,  1.81006286, 14.99999944]),)\n",
      "(array([ 0.3999839 ,  0.04499654,  1.94694525,  1.81006286, 14.99999944]),)\n",
      "(array([ 0.39998391,  0.04499654,  1.94694525,  1.81006286, 14.99999944]),)\n",
      "(array([ 0.3999839 ,  0.04499656,  1.94694525,  1.81006286, 14.99999944]),)\n",
      "(array([ 0.3999839 ,  0.04499654,  1.94694527,  1.81006286, 14.99999944]),)\n",
      "(array([ 0.3999839 ,  0.04499654,  1.94694525,  1.81006288, 14.99999944]),)\n",
      "(array([ 0.3999839 ,  0.04499654,  1.94694525,  1.81006286, 14.99999945]),)\n",
      "(array([ 0.40670224, -0.76012572,  1.26418127,  1.7409372 , 15.00023677]),)\n",
      "(array([ 0.40299898, -0.31632895,  1.64053212,  1.77904041, 15.00010595]),)\n",
      "(array([ 0.40299898, -0.31632895,  1.64053212,  1.77904041, 15.00010595]),)\n",
      "(array([ 0.40299899, -0.31632895,  1.64053212,  1.77904041, 15.00010595]),)\n",
      "(array([ 0.40299898, -0.31632894,  1.64053212,  1.77904041, 15.00010595]),)\n",
      "(array([ 0.40299898, -0.31632895,  1.64053213,  1.77904041, 15.00010595]),)\n",
      "(array([ 0.40299898, -0.31632895,  1.64053212,  1.77904043, 15.00010595]),)\n",
      "(array([ 0.40299898, -0.31632895,  1.64053212,  1.77904041, 15.00010596]),)\n",
      "(array([ 0.45908532, -0.66831806,  1.17472576,  1.65247714, 15.00062003]),)\n",
      "(array([ 0.45908532, -0.66831806,  1.17472576,  1.65247714, 15.00062003]),)\n",
      "(array([ 0.45908533, -0.66831806,  1.17472576,  1.65247714, 15.00062003]),)\n",
      "(array([ 0.45908532, -0.66831804,  1.17472576,  1.65247714, 15.00062003]),)\n",
      "(array([ 0.45908532, -0.66831806,  1.17472578,  1.65247714, 15.00062003]),)\n",
      "(array([ 0.45908532, -0.66831806,  1.17472576,  1.65247716, 15.00062003]),)\n",
      "(array([ 0.45908532, -0.66831806,  1.17472576,  1.65247714, 15.00062004]),)\n",
      "(array([ 0.63732292, -0.30485498,  0.66091683,  1.69415109, 15.03780682]),)\n",
      "(array([ 0.63732292, -0.30485498,  0.66091683,  1.69415109, 15.03780682]),)\n",
      "(array([ 0.63732294, -0.30485498,  0.66091683,  1.69415109, 15.03780682]),)\n",
      "(array([ 0.63732292, -0.30485496,  0.66091683,  1.69415109, 15.03780682]),)\n",
      "(array([ 0.63732292, -0.30485498,  0.66091685,  1.69415109, 15.03780682]),)\n",
      "(array([ 0.63732292, -0.30485498,  0.66091683,  1.6941511 , 15.03780682]),)\n",
      "(array([ 0.63732292, -0.30485498,  0.66091683,  1.69415109, 15.03780684]),)\n",
      "(array([ 0.63062591, -0.29774633,  0.69648323,  1.70541224, 15.03607172]),)\n",
      "(array([ 0.63062591, -0.29774633,  0.69648323,  1.70541224, 15.03607172]),)\n",
      "(array([ 0.63062592, -0.29774633,  0.69648323,  1.70541224, 15.03607172]),)\n",
      "(array([ 0.63062591, -0.29774632,  0.69648323,  1.70541224, 15.03607172]),)\n",
      "(array([ 0.63062591, -0.29774633,  0.69648324,  1.70541224, 15.03607172]),)\n",
      "(array([ 0.63062591, -0.29774633,  0.69648323,  1.70541225, 15.03607172]),)\n",
      "(array([ 0.63062591, -0.29774633,  0.69648323,  1.70541224, 15.03607173]),)\n",
      "(array([ 0.63282218, -0.29291986,  0.69033128,  1.70862384, 15.03594565]),)\n",
      "(array([ 0.63282218, -0.29291986,  0.69033128,  1.70862384, 15.03594565]),)\n",
      "(array([ 0.63282219, -0.29291986,  0.69033128,  1.70862384, 15.03594565]),)\n",
      "(array([ 0.63282218, -0.29291985,  0.69033128,  1.70862384, 15.03594565]),)\n",
      "(array([ 0.63282218, -0.29291986,  0.69033129,  1.70862384, 15.03594565]),)\n",
      "(array([ 0.63282218, -0.29291986,  0.69033128,  1.70862385, 15.03594565]),)\n",
      "(array([ 0.63282218, -0.29291986,  0.69033128,  1.70862384, 15.03594566]),)\n",
      "(array([ 0.64281473, -0.27020294,  0.66356931,  1.72583174, 15.03529397]),)\n",
      "(array([ 0.64281473, -0.27020294,  0.66356931,  1.72583174, 15.03529397]),)\n",
      "(array([ 0.64281474, -0.27020294,  0.66356931,  1.72583174, 15.03529397]),)\n",
      "(array([ 0.64281473, -0.27020292,  0.66356931,  1.72583174, 15.03529397]),)\n",
      "(array([ 0.64281473, -0.27020294,  0.66356932,  1.72583174, 15.03529397]),)\n",
      "(array([ 0.64281473, -0.27020294,  0.66356931,  1.72583176, 15.03529397]),)\n",
      "(array([ 0.64281473, -0.27020294,  0.66356931,  1.72583174, 15.03529398]),)\n",
      "(array([ 0.66184708, -0.22853322,  0.61486879,  1.76215368, 15.03413593]),)\n",
      "(array([ 0.66184708, -0.22853322,  0.61486879,  1.76215368, 15.03413593]),)\n",
      "(array([ 0.6618471 , -0.22853322,  0.61486879,  1.76215368, 15.03413593]),)\n",
      "(array([ 0.66184708, -0.22853321,  0.61486879,  1.76215368, 15.03413593]),)\n",
      "(array([ 0.66184708, -0.22853322,  0.61486881,  1.76215368, 15.03413593]),)\n",
      "(array([ 0.66184708, -0.22853322,  0.61486879,  1.76215369, 15.03413593]),)\n",
      "(array([ 0.66184708, -0.22853322,  0.61486879,  1.76215368, 15.03413594]),)\n",
      "(array([ 0.66718135, -0.2197524 ,  0.60485404,  1.77473404, 15.03394235]),)\n",
      "(array([ 0.66718135, -0.2197524 ,  0.60485404,  1.77473404, 15.03394235]),)\n",
      "(array([ 0.66718136, -0.2197524 ,  0.60485404,  1.77473404, 15.03394235]),)\n",
      "(array([ 0.66718135, -0.21975239,  0.60485404,  1.77473404, 15.03394235]),)\n",
      "(array([ 0.66718135, -0.2197524 ,  0.60485406,  1.77473404, 15.03394235]),)\n",
      "(array([ 0.66718135, -0.2197524 ,  0.60485404,  1.77473405, 15.03394235]),)\n",
      "(array([ 0.66718135, -0.2197524 ,  0.60485404,  1.77473404, 15.03394236]),)\n",
      "(array([ 0.67947771, -0.20469306,  0.58830979,  1.80758168, 15.0337254 ]),)\n",
      "(array([ 0.67947771, -0.20469306,  0.58830979,  1.80758168, 15.0337254 ]),)\n",
      "(array([ 0.67947772, -0.20469306,  0.58830979,  1.80758168, 15.0337254 ]),)\n",
      "(array([ 0.67947771, -0.20469304,  0.58830979,  1.80758168, 15.0337254 ]),)\n",
      "(array([ 0.67947771, -0.20469306,  0.5883098 ,  1.80758168, 15.0337254 ]),)\n",
      "(array([ 0.67947771, -0.20469306,  0.58830979,  1.8075817 , 15.0337254 ]),)\n",
      "(array([ 0.67947771, -0.20469306,  0.58830979,  1.80758168, 15.03372541]),)\n",
      "(array([ 0.70546858, -0.18150369,  0.56419518,  1.88314563, 15.03364895]),)\n",
      "(array([ 0.70546858, -0.18150369,  0.56419518,  1.88314563, 15.03364895]),)\n",
      "(array([ 0.7054686 , -0.18150369,  0.56419518,  1.88314563, 15.03364895]),)\n",
      "(array([ 0.70546858, -0.18150368,  0.56419518,  1.88314563, 15.03364895]),)\n",
      "(array([ 0.70546858, -0.18150369,  0.56419519,  1.88314563, 15.03364895]),)\n",
      "(array([ 0.70546858, -0.18150369,  0.56419518,  1.88314564, 15.03364895]),)\n",
      "(array([ 0.70546858, -0.18150369,  0.56419518,  1.88314563, 15.03364896]),)\n",
      "(array([ 0.76439679, -0.14365544,  0.52762374,  2.06396007, 15.03413287]),)\n",
      "(array([ 0.76439679, -0.14365544,  0.52762374,  2.06396007, 15.03413287]),)\n",
      "(array([ 0.76439681, -0.14365544,  0.52762374,  2.06396007, 15.03413287]),)\n",
      "(array([ 0.76439679, -0.14365543,  0.52762374,  2.06396007, 15.03413287]),)\n",
      "(array([ 0.76439679, -0.14365544,  0.52762376,  2.06396007, 15.03413287]),)\n",
      "(array([ 0.76439679, -0.14365544,  0.52762374,  2.06396008, 15.03413287]),)\n",
      "(array([ 0.76439679, -0.14365544,  0.52762374,  2.06396007, 15.03413288]),)\n",
      "(array([ 0.87549884, -0.09596853,  0.48645976,  2.41775139, 15.03612739]),)\n",
      "(array([ 0.87549884, -0.09596853,  0.48645976,  2.41775139, 15.03612739]),)\n",
      "(array([ 0.87549885, -0.09596853,  0.48645976,  2.41775139, 15.03612739]),)\n",
      "(array([ 0.87549884, -0.09596851,  0.48645976,  2.41775139, 15.03612739]),)\n",
      "(array([ 0.87549884, -0.09596853,  0.48645978,  2.41775139, 15.03612739]),)\n",
      "(array([ 0.87549884, -0.09596853,  0.48645976,  2.4177514 , 15.03612739]),)\n",
      "(array([ 0.87549884, -0.09596853,  0.48645976,  2.41775139, 15.03612741]),)\n",
      "(array([ 1.07711325, -0.04905985,  0.4561619 ,  3.07814159, 15.04160572]),)\n",
      "(array([ 1.07711325, -0.04905985,  0.4561619 ,  3.07814159, 15.04160572]),)\n",
      "(array([ 1.07711326, -0.04905985,  0.4561619 ,  3.07814159, 15.04160572]),)\n",
      "(array([ 1.07711325, -0.04905983,  0.4561619 ,  3.07814159, 15.04160572]),)\n",
      "(array([ 1.07711325, -0.04905985,  0.45616191,  3.07814159, 15.04160572]),)\n",
      "(array([ 1.07711325, -0.04905985,  0.4561619 ,  3.0781416 , 15.04160572]),)\n",
      "(array([ 1.07711325, -0.04905985,  0.4561619 ,  3.07814159, 15.04160574]),)\n",
      "(array([ 1.51082592, -0.01829031,  0.46771244,  4.52889882, 15.05672645]),)\n",
      "(array([ 1.51082592, -0.01829031,  0.46771244,  4.52889882, 15.05672645]),)\n",
      "(array([ 1.51082594, -0.01829031,  0.46771244,  4.52889882, 15.05672645]),)\n",
      "(array([ 1.51082592, -0.01829029,  0.46771244,  4.52889882, 15.05672645]),)\n",
      "(array([ 1.51082592, -0.01829031,  0.46771246,  4.52889882, 15.05672645]),)\n",
      "(array([ 1.51082592, -0.01829031,  0.46771244,  4.52889884, 15.05672645]),)\n",
      "(array([ 1.51082592, -0.01829031,  0.46771244,  4.52889882, 15.05672647]),)\n",
      "(array([ 2.42539042, -0.04109092,  0.58275658,  7.62105315, 15.09291635]),)\n",
      "(array([ 2.42539042, -0.04109092,  0.58275658,  7.62105315, 15.09291635]),)\n",
      "(array([ 2.42539043, -0.04109092,  0.58275658,  7.62105315, 15.09291635]),)\n",
      "(array([ 2.42539042, -0.04109091,  0.58275658,  7.62105315, 15.09291635]),)\n",
      "(array([ 2.42539042, -0.04109092,  0.58275659,  7.62105315, 15.09291635]),)\n",
      "(array([ 2.42539042, -0.04109092,  0.58275658,  7.62105316, 15.09291635]),)\n",
      "(array([ 2.42539042, -0.04109092,  0.58275658,  7.62105315, 15.09291636]),)\n",
      "(array([ 3.99271134e+00, -3.16999942e-03,  6.79871894e-01,  1.28735889e+01,\n",
      "        1.51516826e+01]),)\n",
      "(array([ 3.99271134e+00, -3.16999942e-03,  6.79871894e-01,  1.28735889e+01,\n",
      "        1.51516826e+01]),)\n",
      "(array([ 3.99271135e+00, -3.16999942e-03,  6.79871894e-01,  1.28735889e+01,\n",
      "        1.51516826e+01]),)\n",
      "(array([ 3.99271134e+00, -3.16998451e-03,  6.79871894e-01,  1.28735889e+01,\n",
      "        1.51516826e+01]),)\n",
      "(array([ 3.99271134e+00, -3.16999942e-03,  6.79871909e-01,  1.28735889e+01,\n",
      "        1.51516826e+01]),)\n",
      "(array([ 3.99271134e+00, -3.16999942e-03,  6.79871894e-01,  1.28735890e+01,\n",
      "        1.51516826e+01]),)\n",
      "(array([ 3.99271134e+00, -3.16999942e-03,  6.79871894e-01,  1.28735889e+01,\n",
      "        1.51516826e+01]),)\n",
      "(array([ 6.27771592e+00, -1.92237558e-02,  8.62522036e-01,  2.05297701e+01,\n",
      "        1.52417049e+01]),)\n",
      "(array([ 6.27771592e+00, -1.92237558e-02,  8.62522036e-01,  2.05297701e+01,\n",
      "        1.52417049e+01]),)\n",
      "(array([ 6.27771594e+00, -1.92237558e-02,  8.62522036e-01,  2.05297701e+01,\n",
      "        1.52417049e+01]),)\n",
      "(array([ 6.27771592e+00, -1.92237409e-02,  8.62522036e-01,  2.05297701e+01,\n",
      "        1.52417049e+01]),)\n",
      "(array([ 6.27771592e+00, -1.92237558e-02,  8.62522051e-01,  2.05297701e+01,\n",
      "        1.52417049e+01]),)\n",
      "(array([ 6.27771592e+00, -1.92237558e-02,  8.62522036e-01,  2.05297701e+01,\n",
      "        1.52417049e+01]),)\n",
      "(array([ 6.27771592e+00, -1.92237558e-02,  8.62522036e-01,  2.05297701e+01,\n",
      "        1.52417049e+01]),)\n",
      "(array([ 9.57553195,  0.03167628,  1.01965703, 31.52581538, 15.36876286]),)\n",
      "(array([ 9.57553195,  0.03167628,  1.01965703, 31.52581538, 15.36876286]),)\n",
      "(array([ 9.57553197,  0.03167628,  1.01965703, 31.52581538, 15.36876286]),)\n",
      "(array([ 9.57553195,  0.03167629,  1.01965703, 31.52581538, 15.36876286]),)\n",
      "(array([ 9.57553195,  0.03167628,  1.01965704, 31.52581538, 15.36876286]),)\n",
      "(array([ 9.57553195,  0.03167628,  1.01965703, 31.52581539, 15.36876286]),)\n",
      "(array([ 9.57553195,  0.03167628,  1.01965703, 31.52581538, 15.36876287]),)\n",
      "(array([1.34244714e+01, 1.78493400e-02, 1.25320037e+00, 4.43648549e+01,\n",
      "       1.55213104e+01]),)\n",
      "(array([1.34244714e+01, 1.78493400e-02, 1.25320037e+00, 4.43648549e+01,\n",
      "       1.55213104e+01]),)\n",
      "(array([1.34244715e+01, 1.78493400e-02, 1.25320037e+00, 4.43648549e+01,\n",
      "       1.55213104e+01]),)\n",
      "(array([1.34244714e+01, 1.78493549e-02, 1.25320037e+00, 4.43648549e+01,\n",
      "       1.55213104e+01]),)\n",
      "(array([1.34244714e+01, 1.78493400e-02, 1.25320039e+00, 4.43648549e+01,\n",
      "       1.55213104e+01]),)\n",
      "(array([1.34244714e+01, 1.78493400e-02, 1.25320037e+00, 4.43648549e+01,\n",
      "       1.55213104e+01]),)\n",
      "(array([1.34244714e+01, 1.78493400e-02, 1.25320037e+00, 4.43648549e+01,\n",
      "       1.55213105e+01]),)\n",
      "(array([1.81070394e+01, 4.01007776e-02, 1.47975624e+00, 5.99551251e+01,\n",
      "       1.57054221e+01]),)\n",
      "(array([1.81070394e+01, 4.01007776e-02, 1.47975624e+00, 5.99551251e+01,\n",
      "       1.57054221e+01]),)\n",
      "(array([1.81070394e+01, 4.01007776e-02, 1.47975624e+00, 5.99551251e+01,\n",
      "       1.57054221e+01]),)\n",
      "(array([1.81070394e+01, 4.01007925e-02, 1.47975624e+00, 5.99551251e+01,\n",
      "       1.57054221e+01]),)\n",
      "(array([1.81070394e+01, 4.01007776e-02, 1.47975626e+00, 5.99551251e+01,\n",
      "       1.57054221e+01]),)\n",
      "(array([1.81070394e+01, 4.01007776e-02, 1.47975624e+00, 5.99551251e+01,\n",
      "       1.57054221e+01]),)\n",
      "(array([1.81070394e+01, 4.01007776e-02, 1.47975624e+00, 5.99551251e+01,\n",
      "       1.57054221e+01]),)\n",
      "(array([2.33314170e+01, 5.65420150e-02, 1.72787767e+00, 7.73409306e+01,\n",
      "       1.59115923e+01]),)\n",
      "(array([2.33314170e+01, 5.65420150e-02, 1.72787767e+00, 7.73409306e+01,\n",
      "       1.59115923e+01]),)\n",
      "(array([2.33314170e+01, 5.65420150e-02, 1.72787767e+00, 7.73409306e+01,\n",
      "       1.59115923e+01]),)\n",
      "(array([2.33314170e+01, 5.65420299e-02, 1.72787767e+00, 7.73409306e+01,\n",
      "       1.59115923e+01]),)\n",
      "(array([2.33314170e+01, 5.65420150e-02, 1.72787769e+00, 7.73409306e+01,\n",
      "       1.59115923e+01]),)\n",
      "(array([2.33314170e+01, 5.65420150e-02, 1.72787767e+00, 7.73409306e+01,\n",
      "       1.59115923e+01]),)\n",
      "(array([2.33314170e+01, 5.65420150e-02, 1.72787767e+00, 7.73409306e+01,\n",
      "       1.59115923e+01]),)\n",
      "(array([2.75671643e+01, 6.89902454e-02, 1.92202301e+00, 9.14302117e+01,\n",
      "       1.60789960e+01]),)\n",
      "(array([2.75671643e+01, 6.89902454e-02, 1.92202301e+00, 9.14302117e+01,\n",
      "       1.60789960e+01]),)\n",
      "(array([2.75671643e+01, 6.89902454e-02, 1.92202301e+00, 9.14302117e+01,\n",
      "       1.60789960e+01]),)\n",
      "(array([2.75671643e+01, 6.89902603e-02, 1.92202301e+00, 9.14302117e+01,\n",
      "       1.60789960e+01]),)\n",
      "(array([2.75671643e+01, 6.89902454e-02, 1.92202303e+00, 9.14302117e+01,\n",
      "       1.60789960e+01]),)\n",
      "(array([2.75671643e+01, 6.89902454e-02, 1.92202301e+00, 9.14302117e+01,\n"
     ]
    },
    {
     "name": "stdout",
     "output_type": "stream",
     "text": [
      "       1.60789960e+01]),)\n",
      "(array([2.75671643e+01, 6.89902454e-02, 1.92202301e+00, 9.14302117e+01,\n",
      "       1.60789960e+01]),)\n",
      "(array([2.97200572e+01, 7.47730064e-02, 2.01456319e+00, 9.85857405e+01,\n",
      "       1.61642815e+01]),)\n",
      "(array([2.97200572e+01, 7.47730064e-02, 2.01456319e+00, 9.85857405e+01,\n",
      "       1.61642815e+01]),)\n",
      "(array([2.97200572e+01, 7.47730064e-02, 2.01456319e+00, 9.85857405e+01,\n",
      "       1.61642815e+01]),)\n",
      "(array([2.97200572e+01, 7.47730213e-02, 2.01456319e+00, 9.85857405e+01,\n",
      "       1.61642815e+01]),)\n",
      "(array([2.97200572e+01, 7.47730064e-02, 2.01456321e+00, 9.85857405e+01,\n",
      "       1.61642815e+01]),)\n",
      "(array([2.97200572e+01, 7.47730064e-02, 2.01456319e+00, 9.85857405e+01,\n",
      "       1.61642815e+01]),)\n",
      "(array([2.97200572e+01, 7.47730064e-02, 2.01456319e+00, 9.85857405e+01,\n",
      "       1.61642815e+01]),)\n",
      "(array([3.03560716e+01, 7.68557409e-02, 2.03384432e+00, 1.00692870e+02,\n",
      "       1.61896563e+01]),)\n",
      "(array([3.03560716e+01, 7.68557409e-02, 2.03384432e+00, 1.00692870e+02,\n",
      "       1.61896563e+01]),)\n",
      "(array([3.03560716e+01, 7.68557409e-02, 2.03384432e+00, 1.00692870e+02,\n",
      "       1.61896563e+01]),)\n",
      "(array([3.03560716e+01, 7.68557558e-02, 2.03384432e+00, 1.00692870e+02,\n",
      "       1.61896563e+01]),)\n",
      "(array([3.03560716e+01, 7.68557409e-02, 2.03384433e+00, 1.00692870e+02,\n",
      "       1.61896563e+01]),)\n",
      "(array([3.03560716e+01, 7.68557409e-02, 2.03384432e+00, 1.00692870e+02,\n",
      "       1.61896563e+01]),)\n",
      "(array([3.03560716e+01, 7.68557409e-02, 2.03384432e+00, 1.00692870e+02,\n",
      "       1.61896563e+01]),)\n",
      "(array([3.06604437e+01, 7.87237909e-02, 2.02315286e+00, 1.01684472e+02,\n",
      "       1.62022476e+01]),)\n",
      "(array([3.06604437e+01, 7.87237909e-02, 2.02315286e+00, 1.01684472e+02,\n",
      "       1.62022476e+01]),)\n",
      "(array([3.06604437e+01, 7.87237909e-02, 2.02315286e+00, 1.01684472e+02,\n",
      "       1.62022476e+01]),)\n",
      "(array([3.06604437e+01, 7.87238058e-02, 2.02315286e+00, 1.01684472e+02,\n",
      "       1.62022476e+01]),)\n",
      "(array([3.06604437e+01, 7.87237909e-02, 2.02315287e+00, 1.01684472e+02,\n",
      "       1.62022476e+01]),)\n",
      "(array([3.06604437e+01, 7.87237909e-02, 2.02315286e+00, 1.01684472e+02,\n",
      "       1.62022476e+01]),)\n",
      "(array([3.06604437e+01, 7.87237909e-02, 2.02315286e+00, 1.01684472e+02,\n",
      "       1.62022476e+01]),)\n",
      "(array([3.01511435e+01, 8.00346187e-02, 1.94523972e+00, 9.99446195e+01,\n",
      "       1.61833143e+01]),)\n",
      "(array([3.01511435e+01, 8.00346187e-02, 1.94523972e+00, 9.99446195e+01,\n",
      "       1.61833143e+01]),)\n",
      "(array([3.01511435e+01, 8.00346187e-02, 1.94523972e+00, 9.99446195e+01,\n",
      "       1.61833143e+01]),)\n",
      "(array([3.01511435e+01, 8.00346336e-02, 1.94523972e+00, 9.99446195e+01,\n",
      "       1.61833143e+01]),)\n",
      "(array([3.01511435e+01, 8.00346187e-02, 1.94523973e+00, 9.99446195e+01,\n",
      "       1.61833143e+01]),)\n",
      "(array([3.01511435e+01, 8.00346187e-02, 1.94523972e+00, 9.99446195e+01,\n",
      "       1.61833143e+01]),)\n",
      "(array([3.01511435e+01, 8.00346187e-02, 1.94523972e+00, 9.99446195e+01,\n",
      "       1.61833143e+01]),)\n",
      "(array([2.86955687e+01, 7.93138506e-02, 1.82441904e+00, 9.50579851e+01,\n",
      "       1.61269139e+01]),)\n",
      "(array([2.86955687e+01, 7.93138506e-02, 1.82441904e+00, 9.50579851e+01,\n",
      "       1.61269139e+01]),)\n",
      "(array([2.86955688e+01, 7.93138506e-02, 1.82441904e+00, 9.50579851e+01,\n",
      "       1.61269139e+01]),)\n",
      "(array([2.86955687e+01, 7.93138655e-02, 1.82441904e+00, 9.50579851e+01,\n",
      "       1.61269139e+01]),)\n",
      "(array([2.86955687e+01, 7.93138506e-02, 1.82441906e+00, 9.50579851e+01,\n",
      "       1.61269139e+01]),)\n",
      "(array([2.86955687e+01, 7.93138506e-02, 1.82441904e+00, 9.50579851e+01,\n",
      "       1.61269139e+01]),)\n",
      "(array([2.86955687e+01, 7.93138506e-02, 1.82441904e+00, 9.50579851e+01,\n",
      "       1.61269139e+01]),)\n",
      "(array([2.78434954e+01, 7.80320542e-02, 1.77992998e+00, 9.22196819e+01,\n",
      "       1.60932861e+01]),)\n",
      "(array([2.78434954e+01, 7.80320542e-02, 1.77992998e+00, 9.22196819e+01,\n",
      "       1.60932861e+01]),)\n",
      "(array([2.78434955e+01, 7.80320542e-02, 1.77992998e+00, 9.22196819e+01,\n",
      "       1.60932861e+01]),)\n",
      "(array([2.78434954e+01, 7.80320691e-02, 1.77992998e+00, 9.22196819e+01,\n",
      "       1.60932861e+01]),)\n",
      "(array([2.78434954e+01, 7.80320542e-02, 1.77993000e+00, 9.22196819e+01,\n",
      "       1.60932861e+01]),)\n",
      "(array([2.78434954e+01, 7.80320542e-02, 1.77992998e+00, 9.22196819e+01,\n",
      "       1.60932861e+01]),)\n",
      "(array([2.78434954e+01, 7.80320542e-02, 1.77992998e+00, 9.22196819e+01,\n",
      "       1.60932861e+01]),)\n",
      "(array([2.74091483e+01, 7.66225748e-02, 1.76837439e+00, 9.07820827e+01,\n",
      "       1.60759145e+01]),)\n",
      "(array([2.74091483e+01, 7.66225748e-02, 1.76837439e+00, 9.07820827e+01,\n",
      "       1.60759145e+01]),)\n",
      "(array([2.74091483e+01, 7.66225748e-02, 1.76837439e+00, 9.07820827e+01,\n",
      "       1.60759145e+01]),)\n",
      "(array([2.74091483e+01, 7.66225897e-02, 1.76837439e+00, 9.07820827e+01,\n",
      "       1.60759145e+01]),)\n",
      "(array([2.74091483e+01, 7.66225748e-02, 1.76837441e+00, 9.07820827e+01,\n",
      "       1.60759145e+01]),)\n",
      "(array([2.74091483e+01, 7.66225748e-02, 1.76837439e+00, 9.07820827e+01,\n",
      "       1.60759145e+01]),)\n",
      "(array([2.74091483e+01, 7.66225748e-02, 1.76837439e+00, 9.07820827e+01,\n",
      "       1.60759145e+01]),)\n",
      "(array([2.74221951e+01, 7.66358598e-02, 1.76835059e+00, 9.08249290e+01,\n",
      "       1.60764480e+01]),)\n",
      "(array([2.74221951e+01, 7.66358598e-02, 1.76835059e+00, 9.08249290e+01,\n",
      "       1.60764480e+01]),)\n",
      "(array([2.74221951e+01, 7.66358598e-02, 1.76835059e+00, 9.08249290e+01,\n",
      "       1.60764480e+01]),)\n",
      "(array([2.74221951e+01, 7.66358747e-02, 1.76835059e+00, 9.08249290e+01,\n",
      "       1.60764480e+01]),)\n",
      "(array([2.74221951e+01, 7.66358598e-02, 1.76835060e+00, 9.08249290e+01,\n",
      "       1.60764480e+01]),)\n",
      "(array([2.74221951e+01, 7.66358598e-02, 1.76835059e+00, 9.08249290e+01,\n",
      "       1.60764480e+01]),)\n",
      "(array([2.74221951e+01, 7.66358598e-02, 1.76835059e+00, 9.08249290e+01,\n",
      "       1.60764481e+01]),)\n"
     ]
    },
    {
     "data": {
      "text/plain": [
       "     fun: 0.0007262113407873575\n",
       "     jac: array([ 1.05283107e-08, -2.45906049e-05, -3.01342516e-06,  5.55155566e-08,\n",
       "        1.90484570e-08])\n",
       " message: 'Optimization terminated successfully.'\n",
       "    nfev: 227\n",
       "     nit: 32\n",
       "    njev: 32\n",
       "  status: 0\n",
       " success: True\n",
       "       x: array([2.74221951e+01, 7.66358598e-02, 1.76835059e+00, 9.08249290e+01,\n",
       "       1.60764480e+01])"
      ]
     },
     "execution_count": 53,
     "metadata": {},
     "output_type": "execute_result"
    }
   ],
   "source": [
    "minimize(loss_k, (0.4,0.11,2,1.8,15), \n",
    "         method='SLSQP', \n",
    "         tol=1e-8, \n",
    "         options={'maxiter':5000})"
   ]
  },
  {
   "cell_type": "code",
   "execution_count": 55,
   "metadata": {},
   "outputs": [
    {
     "data": {
      "text/plain": [
       "[<matplotlib.lines.Line2D at 0x7ff1102f3cc0>]"
      ]
     },
     "execution_count": 55,
     "metadata": {},
     "output_type": "execute_result"
    },
    {
     "data": {
      "image/png": "[encoded data removed]",
      "text/plain": [
       "<Figure size 432x288 with 1 Axes>"
      ]
     },
     "metadata": {
      "needs_background": "light"
     },
     "output_type": "display_data"
    }
   ],
   "source": [
    "plt.plot(T, k_func(T, 2.74221951e+01, 7.66358598e-02, 1.76835059e+00, 9.08249290e+01,\n",
    "       1.60764480e+01))\n",
    "plt.plot(T, k, color='r')"
   ]
  }
 ],
 "metadata": {
  "kernelspec": {
   "display_name": "Python 3",
   "language": "python",
   "name": "python3"
  },
  "language_info": {
   "codemirror_mode": {
    "name": "ipython",
    "version": 3
   },
   "file_extension": ".py",
   "mimetype": "text/x-python",
   "name": "python",
   "nbconvert_exporter": "python",
   "pygments_lexer": "ipython3",
   "version": "3.6.8"
  }
 },
 "nbformat": 4,
 "nbformat_minor": 2
}
