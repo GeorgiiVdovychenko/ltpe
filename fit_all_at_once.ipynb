{
 "cells": [
  {
   "cell_type": "code",
   "execution_count": 1,
   "metadata": {},
   "outputs": [],
   "source": [
    "import pandas as pd\n",
    "import numpy as np\n",
    "import matplotlib.pyplot as plt\n",
    "%matplotlib inline"
   ]
  },
  {
   "cell_type": "code",
   "execution_count": 2,
   "metadata": {},
   "outputs": [],
   "source": [
    "with open('/home/quantum/Documents/iltpe/SiO2Damon1973.txt', 'r') as f:\n",
    "    data = f.readlines()\n",
    "data = [d.split('\\t') for d in data]\n",
    "data = pd.DataFrame(data[1:], columns=['T', 'k'])\n",
    "data['k'] = data['k'].str.replace('\\n', '')\n",
    "for c in data.columns:\n",
    "    data[c] = data[c].astype('float')"
   ]
  },
  {
   "cell_type": "code",
   "execution_count": 3,
   "metadata": {},
   "outputs": [],
   "source": [
    "data['T_log'] = np.log(data['T'])\n",
    "data['k_log'] = np.log(data['k'])"
   ]
  },
  {
   "cell_type": "code",
   "execution_count": 4,
   "metadata": {},
   "outputs": [
    {
     "data": {
      "image/png": "[encoded data removed]",
      "text/plain": [
       "<Figure size 432x288 with 1 Axes>"
      ]
     },
     "metadata": {
      "needs_background": "light"
     },
     "output_type": "display_data"
    }
   ],
   "source": [
    "fig = plt.figure()\n",
    "ax = plt.gca()\n",
    "ax.scatter(data['T'], data['k'])\n",
    "ax.set_yscale('log')\n",
    "ax.set_xscale('log')"
   ]
  },
  {
   "cell_type": "code",
   "execution_count": 5,
   "metadata": {},
   "outputs": [],
   "source": [
    "z = np.polyfit(data['T_log'], data['k_log'], 6)\n",
    "p = np.poly1d(z)\n",
    "xp = np.linspace(0, 5, 100)\n",
    "ap_df = pd.DataFrame({'x':xp})\n",
    "ap_df['y'] = [p(x) for x in xp]"
   ]
  },
  {
   "cell_type": "code",
   "execution_count": 6,
   "metadata": {},
   "outputs": [
    {
     "data": {
      "text/plain": [
       "<matplotlib.collections.PathCollection at 0x7ff6b7f9f400>"
      ]
     },
     "execution_count": 6,
     "metadata": {},
     "output_type": "execute_result"
    },
    {
     "data": {
      "image/png": "[encoded data removed]",
      "text/plain": [
       "<Figure size 432x288 with 1 Axes>"
      ]
     },
     "metadata": {
      "needs_background": "light"
     },
     "output_type": "display_data"
    }
   ],
   "source": [
    "fig = plt.figure()\n",
    "ax = plt.gca()\n",
    "ax.scatter(ap_df['x'], ap_df['y'])\n",
    "# ax.set_yscale('log')\n",
    "# ax.set_xscale('log')"
   ]
  },
  {
   "cell_type": "code",
   "execution_count": 7,
   "metadata": {},
   "outputs": [
    {
     "data": {
      "text/html": [
       "<div>\n",
       "<style scoped>\n",
       "    .dataframe tbody tr th:only-of-type {\n",
       "        vertical-align: middle;\n",
       "    }\n",
       "\n",
       "    .dataframe tbody tr th {\n",
       "        vertical-align: top;\n",
       "    }\n",
       "\n",
       "    .dataframe thead th {\n",
       "        text-align: right;\n",
       "    }\n",
       "</style>\n",
       "<table border=\"1\" class=\"dataframe\">\n",
       "  <thead>\n",
       "    <tr style=\"text-align: right;\">\n",
       "      <th></th>\n",
       "      <th>x</th>\n",
       "      <th>y</th>\n",
       "    </tr>\n",
       "  </thead>\n",
       "  <tbody>\n",
       "    <tr>\n",
       "      <th>0</th>\n",
       "      <td>0.000000</td>\n",
       "      <td>-4.109610</td>\n",
       "    </tr>\n",
       "    <tr>\n",
       "      <th>1</th>\n",
       "      <td>0.050505</td>\n",
       "      <td>-4.062483</td>\n",
       "    </tr>\n",
       "    <tr>\n",
       "      <th>2</th>\n",
       "      <td>0.101010</td>\n",
       "      <td>-4.008089</td>\n",
       "    </tr>\n",
       "    <tr>\n",
       "      <th>3</th>\n",
       "      <td>0.151515</td>\n",
       "      <td>-3.947676</td>\n",
       "    </tr>\n",
       "    <tr>\n",
       "      <th>4</th>\n",
       "      <td>0.202020</td>\n",
       "      <td>-3.882392</td>\n",
       "    </tr>\n",
       "  </tbody>\n",
       "</table>\n",
       "</div>"
      ],
      "text/plain": [
       "          x         y\n",
       "0  0.000000 -4.109610\n",
       "1  0.050505 -4.062483\n",
       "2  0.101010 -4.008089\n",
       "3  0.151515 -3.947676\n",
       "4  0.202020 -3.882392"
      ]
     },
     "execution_count": 7,
     "metadata": {},
     "output_type": "execute_result"
    }
   ],
   "source": [
    "ap_df.head()"
   ]
  },
  {
   "cell_type": "code",
   "execution_count": 8,
   "metadata": {},
   "outputs": [],
   "source": [
    "def k_func(T, c1, c2, c3, c4, n):\n",
    "    k1 = (c1*T**n*c2)/(c1*T**n+c2) \n",
    "    k2 = c3*np.exp(-(c4/T))\n",
    "    return k1+k2\n",
    "\n",
    "def loss_k(params):\n",
    "    c1 = params['c1']  \n",
    "    c2 = params['c2'] \n",
    "    c3 = params['c3'] \n",
    "    c4 = params['c4']\n",
    "    n = params['n']\n",
    "    k_fit = [k_func(t, c1, c2, c3, c4, n) for t in T]\n",
    "    return np.mean((k_fit - k)**2)"
   ]
  },
  {
   "cell_type": "code",
   "execution_count": 9,
   "metadata": {},
   "outputs": [],
   "source": [
    "T = ap_df['x']+0.01\n",
    "k = ap_df['y']"
   ]
  },
  {
   "cell_type": "code",
   "execution_count": 10,
   "metadata": {
    "scrolled": true
   },
   "outputs": [
    {
     "data": {
      "text/plain": [
       "5.459094069513787"
      ]
     },
     "execution_count": 10,
     "metadata": {},
     "output_type": "execute_result"
    }
   ],
   "source": [
    "test_params = {\n",
    "    'c1':0.01,\n",
    "    'c2':15,\n",
    "    'c3':0.01,\n",
    "    'c4':5,\n",
    "    'n':2\n",
    "}\n",
    "loss_k(test_params)"
   ]
  },
  {
   "cell_type": "code",
   "execution_count": 11,
   "metadata": {},
   "outputs": [
    {
     "name": "stdout",
     "output_type": "stream",
     "text": [
      "100%|██████████| 500/500 [00:06<00:00, 60.07it/s, best loss: 5.265866923174254] \n",
      "{'c1': 0.06533284299348534, 'c2': 0.001403852524809518, 'c3': 45.95370063953297, 'c4': 156.20535686203047, 'n': 1.8165968531815446}\n"
     ]
    }
   ],
   "source": [
    "from hyperopt import fmin, tpe, hp\n",
    "space = {'c1': hp.uniform('c1', 0.01, 0.1),\n",
    "        'c2': hp.uniform('c2', 0.0001, 15),\n",
    "        'c3': hp.uniform('c3', 0.1, 100),\n",
    "        'c4': hp.uniform('c4', 5, 250),\n",
    "        'n': hp.uniform('n', 1.7, 2)}\n",
    "\n",
    "best = fmin(fn=loss_k,\n",
    "    space=space,\n",
    "    algo=tpe.suggest,\n",
    "    max_evals=500)\n",
    "print(best)\n"
   ]
  },
  {
   "cell_type": "code",
   "execution_count": 12,
   "metadata": {},
   "outputs": [
    {
     "data": {
      "text/plain": [
       "{'c1': 0.06533284299348534,\n",
       " 'c2': 0.001403852524809518,\n",
       " 'c3': 45.95370063953297,\n",
       " 'c4': 156.20535686203047,\n",
       " 'n': 1.8165968531815446}"
      ]
     },
     "execution_count": 12,
     "metadata": {},
     "output_type": "execute_result"
    }
   ],
   "source": [
    "best"
   ]
  },
  {
   "cell_type": "code",
   "execution_count": 13,
   "metadata": {},
   "outputs": [
    {
     "data": {
      "text/plain": [
       "[<matplotlib.lines.Line2D at 0x7ff6b8024a58>]"
      ]
     },
     "execution_count": 13,
     "metadata": {},
     "output_type": "execute_result"
    },
    {
     "data": {
      "image/png": "[encoded data removed]",
      "text/plain": [
       "<Figure size 432x288 with 1 Axes>"
      ]
     },
     "metadata": {
      "needs_background": "light"
     },
     "output_type": "display_data"
    }
   ],
   "source": [
    "c1 = best[\"c1\"]\n",
    "c2 = best[\"c2\"]\n",
    "c3 = best[\"c3\"]\n",
    "c4 = best[\"c4\"]\n",
    "n = best[\"n\"]\n",
    "k1_fitted = k_func(T, c1, c2, c3, c4, n)\n",
    "plt.plot(T, k)\n",
    "plt.plot(T, k1_fitted)"
   ]
  },
  {
   "cell_type": "code",
   "execution_count": null,
   "metadata": {},
   "outputs": [],
   "source": []
  },
  {
   "cell_type": "code",
   "execution_count": 14,
   "metadata": {},
   "outputs": [],
   "source": [
    "z = np.polyfit(data['T_log'], data['k_log'], 6)\n",
    "p = np.poly1d(z)\n",
    "xp = np.linspace(0, 5, 100)\n",
    "ap_df = pd.DataFrame({'x':xp})"
   ]
  }
 ],
 "metadata": {
  "kernelspec": {
   "display_name": "Python 3",
   "language": "python",
   "name": "python3"
  },
  "language_info": {
   "codemirror_mode": {
    "name": "ipython",
    "version": 3
   },
   "file_extension": ".py",
   "mimetype": "text/x-python",
   "name": "python",
   "nbconvert_exporter": "python",
   "pygments_lexer": "ipython3",
   "version": "3.6.8"
  }
 },
 "nbformat": 4,
 "nbformat_minor": 2
}
